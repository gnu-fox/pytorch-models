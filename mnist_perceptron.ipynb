{
 "cells": [
  {
   "cell_type": "code",
   "execution_count": 1,
   "metadata": {},
   "outputs": [],
   "source": [
    "from torchvision.datasets.mnist import MNIST\n",
    "from torchvision.transforms import ToTensor, Compose, Normalize\n",
    "\n",
    "transform = Compose([ToTensor(), Normalize((0.1307,), (0.3081,))])\n",
    "train_dataset = MNIST(root='data', train=True, transform=transform, download=True)\n",
    "test_dataset = MNIST(root='data', train=False, transform=transform, download=True)"
   ]
  },
  {
   "cell_type": "code",
   "execution_count": 2,
   "metadata": {},
   "outputs": [
    {
     "ename": "TypeError",
     "evalue": "'NLLLoss' object is not iterable",
     "output_type": "error",
     "traceback": [
      "\u001b[0;31m---------------------------------------------------------------------------\u001b[0m",
      "\u001b[0;31mTypeError\u001b[0m                                 Traceback (most recent call last)",
      "Cell \u001b[0;32mIn[2], line 18\u001b[0m\n\u001b[1;32m     16\u001b[0m test_loss \u001b[38;5;241m=\u001b[39m []\n\u001b[1;32m     17\u001b[0m \u001b[38;5;28;01mfor\u001b[39;00m epoch \u001b[38;5;129;01min\u001b[39;00m \u001b[38;5;28mrange\u001b[39m(\u001b[38;5;241m10\u001b[39m):\n\u001b[0;32m---> 18\u001b[0m     loss \u001b[38;5;241m=\u001b[39m \u001b[43mservices\u001b[49m\u001b[38;5;241;43m.\u001b[39;49m\u001b[43mtrain\u001b[49m\u001b[43m(\u001b[49m\u001b[43mmodel\u001b[49m\u001b[43m,\u001b[49m\u001b[43m \u001b[49m\u001b[43moptimizer\u001b[49m\u001b[43m,\u001b[49m\u001b[43m \u001b[49m\u001b[43mtrain_dataloader\u001b[49m\u001b[43m,\u001b[49m\u001b[43m \u001b[49m\u001b[43mcriterion\u001b[49m\u001b[43m)\u001b[49m\n\u001b[1;32m     19\u001b[0m     train_loss\u001b[38;5;241m.\u001b[39mappend(loss)\n\u001b[1;32m     21\u001b[0m     loss \u001b[38;5;241m=\u001b[39m services\u001b[38;5;241m.\u001b[39mtest(model, test_dataloader, criterion)\n",
      "File \u001b[0;32m~/Programming/pytorch-models/services.py:13\u001b[0m, in \u001b[0;36mtrain\u001b[0;34m(model, optimizer, criterion, data)\u001b[0m\n\u001b[1;32m     10\u001b[0m average_loss \u001b[38;5;241m=\u001b[39m \u001b[38;5;241m0\u001b[39m\n\u001b[1;32m     12\u001b[0m model\u001b[38;5;241m.\u001b[39mtrain(mode\u001b[38;5;241m=\u001b[39m\u001b[38;5;28;01mTrue\u001b[39;00m)\n\u001b[0;32m---> 13\u001b[0m \u001b[38;5;28;01mfor\u001b[39;00m batch, (data, target) \u001b[38;5;129;01min\u001b[39;00m \u001b[38;5;28;43menumerate\u001b[39;49m\u001b[43m(\u001b[49m\u001b[43mdata\u001b[49m\u001b[43m)\u001b[49m:\n\u001b[1;32m     14\u001b[0m     optimizer\u001b[38;5;241m.\u001b[39mzero_grad()\n\u001b[1;32m     15\u001b[0m     output \u001b[38;5;241m=\u001b[39m model(data)\n",
      "\u001b[0;31mTypeError\u001b[0m: 'NLLLoss' object is not iterable"
     ]
    }
   ],
   "source": [
    "from torch.optim import SGD\n",
    "from torch.nn import NLLLoss\n",
    "from torch.utils.data import DataLoader\n",
    "\n",
    "from models.perceptron import Perceptron, Dimensions\n",
    "import services\n",
    "\n",
    "model = Perceptron(dimensions=Dimensions(input=28*28, hidden=128, output=10))\n",
    "optimizer = SGD(model.parameters(), lr=0.01)\n",
    "criterion = NLLLoss()\n",
    "\n",
    "train_dataloader = DataLoader(dataset= MNIST(root='data', train=True, transform=transform, download=True), batch_size=784, shuffle=True)\n",
    "test_dataloader = DataLoader(dataset=MNIST(root='data', train=False, transform=transform, download=True), batch_size=784)\n",
    "\n",
    "train_loss = []\n",
    "test_loss = []\n",
    "for epoch in range(10):\n",
    "    loss = services.train(model, optimizer, criterion, train_dataloader)\n",
    "    train_loss.append(loss)\n",
    "\n",
    "    loss = services.test(model, criterion, test_dataloader)\n",
    "    test_loss.append(loss)"
   ]
  },
  {
   "cell_type": "code",
   "execution_count": null,
   "metadata": {},
   "outputs": [],
   "source": []
  },
  {
   "cell_type": "code",
   "execution_count": null,
   "metadata": {},
   "outputs": [],
   "source": [
    "import torch\n",
    "torch.save(model.state_dict(), './data/weights/mnist_perceptron.pth')"
   ]
  }
 ],
 "metadata": {
  "kernelspec": {
   "display_name": "pytorch",
   "language": "python",
   "name": "python3"
  },
  "language_info": {
   "codemirror_mode": {
    "name": "ipython",
    "version": 3
   },
   "file_extension": ".py",
   "mimetype": "text/x-python",
   "name": "python",
   "nbconvert_exporter": "python",
   "pygments_lexer": "ipython3",
   "version": "3.12.2"
  }
 },
 "nbformat": 4,
 "nbformat_minor": 2
}
