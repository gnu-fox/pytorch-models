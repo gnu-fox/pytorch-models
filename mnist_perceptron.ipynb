{
 "cells": [
  {
   "cell_type": "code",
   "execution_count": 2,
   "metadata": {},
   "outputs": [],
   "source": [
    "from torch.optim import SGD\n",
    "from torch.nn import NLLLoss\n",
    "from torch.utils.data import DataLoader\n",
    "\n",
    "from data.mnist import DatasetMNIST\n",
    "from models.perceptron import Perceptron, Dimensions\n",
    "import services\n",
    "\n",
    "model = Perceptron(dimensions=Dimensions(input=28*28, hidden=128, output=10))\n",
    "optimizer = SGD(model.parameters(), lr=0.01)\n",
    "criterion = NLLLoss()\n",
    "\n",
    "train_dataloader = DataLoader(dataset=DatasetMNIST(train=True), batch_size=64, shuffle=True)\n",
    "test_dataloader = DataLoader(dataset=DatasetMNIST(train=False), batch_size=64, shuffle=True)\n",
    "\n",
    "train_loss = []\n",
    "test_loss = []\n",
    "for epoch in range(10):\n",
    "    loss = services.train(model, optimizer, train_dataloader, criterion)\n",
    "    train_loss.append(loss)\n",
    "\n",
    "    loss = services.test(model, test_dataloader, criterion)\n",
    "    test_loss.append(loss)"
   ]
  },
  {
   "cell_type": "code",
   "execution_count": null,
   "metadata": {},
   "outputs": [],
   "source": []
  },
  {
   "cell_type": "code",
   "execution_count": null,
   "metadata": {},
   "outputs": [],
   "source": [
    "import torch\n",
    "torch.save(model.state_dict(), './data/weights/mnist_perceptron.pth')"
   ]
  }
 ],
 "metadata": {
  "kernelspec": {
   "display_name": "pytorch",
   "language": "python",
   "name": "python3"
  },
  "language_info": {
   "codemirror_mode": {
    "name": "ipython",
    "version": 3
   },
   "file_extension": ".py",
   "mimetype": "text/x-python",
   "name": "python",
   "nbconvert_exporter": "python",
   "pygments_lexer": "ipython3",
   "version": "3.12.2"
  }
 },
 "nbformat": 4,
 "nbformat_minor": 2
}
